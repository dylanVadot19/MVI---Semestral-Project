{
  "cells": [
    {
      "cell_type": "code",
      "execution_count": 23,
      "metadata": {
        "id": "wWN6-Bl_-m4V"
      },
      "outputs": [],
      "source": [
        "import tensorflow as tf\n",
        "import keras\n",
        "from tensorflow.keras import datasets, layers, models\n",
        "from tensorflow.keras.layers import *\n",
        "import matplotlib.pyplot as plt\n",
        "import numpy as np"
      ]
    },
    {
      "cell_type": "code",
      "execution_count": 24,
      "metadata": {
        "colab": {
          "base_uri": "https://localhost:8080/"
        },
        "id": "vPvJ4wM7-wMD",
        "outputId": "6d0fbc55-bbc6-4c2e-dd64-b20b9a0aacc1"
      },
      "outputs": [
        {
          "output_type": "stream",
          "name": "stdout",
          "text": [
            "x_train shape: (5000, 32, 32, 3) - y_train shape: (5000, 1)\n",
            "x_test shape: (1000, 32, 32, 3) - y_test shape: (1000, 1)\n"
          ]
        }
      ],
      "source": [
        "(x_train, y_train), (x_test, y_test) = keras.datasets.cifar10.load_data()\n",
        "x_train = x_train[:5000]\n",
        "y_train = y_train[:5000]\n",
        "x_test = x_test[:1000]\n",
        "y_test = y_test[:1000]\n",
        "print(f\"x_train shape: {x_train.shape} - y_train shape: {y_train.shape}\")\n",
        "print(f\"x_test shape: {x_test.shape} - y_test shape: {y_test.shape}\")"
      ]
    },
    {
      "cell_type": "code",
      "execution_count": 25,
      "metadata": {
        "id": "aaB-79Uc-3cH"
      },
      "outputs": [],
      "source": [
        "#Creation of the patches\n",
        "P = 2 #Size of the patches\n",
        "W = x_train[0].shape[0]\n",
        "H = x_train[0].shape[1]\n",
        "N = int(H*W/(P*P))\n",
        "C = 3\n",
        "def patchData(data):\n",
        "  data_patched = []\n",
        "  for i in range(len(data)):\n",
        "    data_patched.append(np.reshape(data[i],(N,int(P*P*C))))\n",
        "  data_patched = np.array(data_patched)\n",
        "  return data_patched"
      ]
    },
    {
      "cell_type": "code",
      "execution_count": 26,
      "metadata": {
        "id": "uuN3VktgCsCF"
      },
      "outputs": [],
      "source": [
        "def getEmbeddingInput(x_train_patched,D):\n",
        "  projection = tf.keras.layers.Dense(units=D)(x_train_patched)\n",
        "  #Position embedding\n",
        "  input_tensor = tf.keras.Input(shape=x_train_patched.shape)\n",
        "  # Build the positions.\n",
        "  positions = tf.range(start=0, limit=N, delta=1,dtype='float32')\n",
        "  # Encode the positions with an Embedding layer.\n",
        "  encoded_positions = layers.Embedding(input_dim=N, output_dim=D)(positions)\n",
        "  transformer_input = projection + encoded_positions\n",
        "  transformer_input = tf.keras.layers.Dropout(0.1)(transformer_input)\n",
        "  return transformer_input"
      ]
    },
    {
      "cell_type": "code",
      "execution_count": 27,
      "metadata": {
        "id": "SXZauPZzJT1u"
      },
      "outputs": [],
      "source": [
        "def createModel(L,D):\n",
        "  #Get the inputs\n",
        "  inputs = tf.keras.layers.Input(shape=(N,P*P*C))\n",
        "  input = getEmbeddingInput(inputs,D)\n",
        "  #Stack of L encoder\n",
        "  for i in range (L):\n",
        "    norm = tf.keras.layers.LayerNormalization(epsilon=1e-6)(input)\n",
        "    msa = MultiHeadAttention(num_heads=4, key_dim=D)(norm,norm)\n",
        "    output= tf.keras.layers.Add()([input,msa])\n",
        "    norm2 = tf.keras.layers.LayerNormalization(epsilon=1e-6)(output)\n",
        "    #MLP\n",
        "    mlp = layers.Dense(D*2, activation=tf.nn.gelu)(norm2)\n",
        "    mlp = layers.Dropout(0.1)(mlp)\n",
        "    mlp = layers.Dense(D, activation=tf.nn.gelu)(mlp)\n",
        "    mlp = layers.Dropout(0.1)(mlp)\n",
        "    input = tf.keras.layers.Add()([mlp,output])\n",
        "\n",
        "  representation = LayerNormalization(epsilon=1e-6)(input)\n",
        "  representation = Flatten()(representation)\n",
        "  representation = Dropout(0.5)(representation)\n",
        "  # Add MLP.\n",
        "  mlp = layers.Dense(2048, activation=tf.nn.gelu)(representation)\n",
        "  mlp = layers.Dropout(0.5)(mlp)\n",
        "  mlp = layers.Dense(1024, activation=tf.nn.gelu)(mlp)\n",
        "  mlp = layers.Dropout(0.5)(mlp)\n",
        "  # Classify outputs.\n",
        "  final_output = Dense(10,activation=\"softmax\")(mlp)\n",
        "  model = keras.Model(inputs=inputs, outputs=final_output)\n",
        "  return model\n"
      ]
    },
    {
      "cell_type": "code",
      "execution_count": 28,
      "metadata": {
        "id": "uvU4Mcf19jG2"
      },
      "outputs": [],
      "source": [
        "def trainModel(model):\n",
        "  optimizer = tf.optimizers.Adam(learning_rate=0.0002, decay=0.1)\n",
        "  model.compile(\n",
        "        optimizer=optimizer,\n",
        "        loss=keras.losses.SparseCategoricalCrossentropy(),\n",
        "        metrics=[\n",
        "            keras.metrics.SparseCategoricalAccuracy(name=\"accuracy\"),\n",
        "            keras.metrics.SparseTopKCategoricalAccuracy(5, name=\"top-5-accuracy\"),\n",
        "        ],\n",
        "    )\n",
        "\n",
        "  checkpoint_filepath = \"/tmp/checkpoint\"\n",
        "  checkpoint_callback = keras.callbacks.ModelCheckpoint(\n",
        "        checkpoint_filepath,\n",
        "        monitor=\"val_accuracy\",\n",
        "        save_best_only=True,\n",
        "        save_weights_only=True,\n",
        "    )\n",
        "\n",
        "  history = model.fit(\n",
        "        x=x_train,\n",
        "        y=y_train,\n",
        "        batch_size=512,\n",
        "        epochs=20,\n",
        "        validation_split=0.1,\n",
        "        callbacks=[checkpoint_callback],\n",
        "    )\n",
        "\n",
        "  model.load_weights(checkpoint_filepath)\n",
        "  _, accuracy, top_5_accuracy = model.evaluate(x_test, y_test)\n",
        "  print(f\"Test accuracy: {round(accuracy * 100, 2)}%\")\n",
        "  print(f\"Test top 5 accuracy: {round(top_5_accuracy * 100, 2)}%\")\n",
        "\n",
        "  return history,accuracy"
      ]
    },
    {
      "cell_type": "markdown",
      "source": [
        "Training for different values of L and D"
      ],
      "metadata": {
        "id": "b3t8RL2Hp1Dk"
      }
    },
    {
      "cell_type": "code",
      "execution_count": null,
      "metadata": {
        "id": "Jp6rveJHgDlZ"
      },
      "outputs": [],
      "source": [
        "x_train = patchData(x_train)\n",
        "x_test = patchData(x_test)\n",
        "print(x_train.shape)\n",
        "result=[]\n",
        "\n",
        "L = [2,4,8]\n",
        "D = [10,50,90,128]\n",
        "for l in L:\n",
        "  for d in D:\n",
        "    model = createModel(l,d)\n",
        "    model.summary()\n",
        "    history,accuracy = trainModel(model)\n",
        "    result.append([D,L,accuracy])"
      ]
    },
    {
      "cell_type": "markdown",
      "source": [
        "Results\n",
        "\n"
      ],
      "metadata": {
        "id": "u9-zMXZ8pjt7"
      }
    },
    {
      "cell_type": "code",
      "execution_count": 21,
      "metadata": {
        "colab": {
          "base_uri": "https://localhost:8080/",
          "height": 266
        },
        "id": "jY5Iv-wEgwYa",
        "outputId": "9b8e885b-7333-42e5-bd91-d12fa8c2da13"
      },
      "outputs": [
        {
          "output_type": "execute_result",
          "data": {
            "text/plain": [
              "<mpl_toolkits.mplot3d.art3d.Path3DCollection at 0x7f5288a44590>"
            ]
          },
          "metadata": {},
          "execution_count": 21
        },
        {
          "output_type": "display_data",
          "data": {
            "image/png": "[encoded data removed]",
            "text/plain": [
              "<Figure size 432x288 with 1 Axes>"
            ]
          },
          "metadata": {
            "needs_background": "light"
          }
        }
      ],
      "source": [
        "L=[2,2,2,2,4,4,4,4,8,8,8,8]\n",
        "D = [10,50,90,128,10,50,90,128,10,50,90,128]\n",
        "Accuracy = [15.8,20.7,23.9,23.5,16.4,22.9,23.1,24.8,17.6,20.4,25.0,27.3]\n",
        "fig = plt.figure()\n",
        "ax = plt.axes(projection ='3d')\n",
        "ax.scatter3D(L,D,Accuracy)"
      ]
    },
    {
      "cell_type": "markdown",
      "source": [
        "The best result is obtained for L=8 and D=128 with an accuracy of 27.3 %"
      ],
      "metadata": {
        "id": "AKLzyBmSqRjX"
      }
    },
    {
      "cell_type": "code",
      "source": [
        ""
      ],
      "metadata": {
        "id": "kqVUkanRqoeN"
      },
      "execution_count": null,
      "outputs": []
    }
  ],
  "metadata": {
    "colab": {
      "collapsed_sections": [],
      "name": "MVI - Semestral project.ipynb",
      "provenance": []
    },
    "kernelspec": {
      "display_name": "Python 3",
      "name": "python3"
    },
    "language_info": {
      "name": "python"
    }
  },
  "nbformat": 4,
  "nbformat_minor": 0
}